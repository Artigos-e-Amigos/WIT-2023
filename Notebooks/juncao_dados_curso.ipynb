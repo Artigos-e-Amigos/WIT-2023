{
 "cells": [
  {
   "cell_type": "code",
   "execution_count": 1,
   "metadata": {},
   "outputs": [],
   "source": [
    "import pandas as pd"
   ]
  },
  {
   "cell_type": "code",
   "execution_count": 2,
   "metadata": {},
   "outputs": [],
   "source": [
    "dados_2019 = pd.read_csv('../Data/SUP_CURSO_2019.CSV', sep='|', encoding='ISO-8859-1')\n",
    "dados_2018 = pd.read_csv('../Data/DM_CURSO.CSV', sep='|', encoding='ISO-8859-1')\n",
    "dados_2017 = pd.read_csv('../Data/SUP_CURSO_2017.CSV', sep='|', encoding='ISO-8859-1')\n",
    "dados_2016 = pd.read_csv('../Data/SUP_CURSO_2016.CSV', sep='|', encoding='ISO-8859-1')\n",
    "dados_2015 = pd.read_csv('../Data/SUP_CURSO_2015.CSV', sep='|', encoding='ISO-8859-1')"
   ]
  },
  {
   "cell_type": "code",
   "execution_count": 3,
   "metadata": {},
   "outputs": [
    {
     "name": "stdout",
     "output_type": "stream",
     "text": [
      "Soma do tamanho das bases: 183226\n"
     ]
    }
   ],
   "source": [
    "bases = [dados_2015, dados_2016, dados_2017, dados_2018, dados_2019]\n",
    "soma_tamanho_bases = 0\n",
    "for b in bases:\n",
    "    soma_tamanho_bases += len(b)\n",
    "\n",
    "print(f'Soma do tamanho das bases: {soma_tamanho_bases}')"
   ]
  },
  {
   "cell_type": "code",
   "execution_count": 4,
   "metadata": {},
   "outputs": [
    {
     "name": "stdout",
     "output_type": "stream",
     "text": [
      "<class 'pandas.core.frame.DataFrame'>\n",
      "Int64Index: 183226 entries, 0 to 40708\n",
      "Columns: 112 entries, NU_ANO_CENSO to QT_INSCRITO_TOTAL\n",
      "dtypes: float64(90), int64(19), object(3)\n",
      "memory usage: 158.0+ MB\n"
     ]
    }
   ],
   "source": [
    "dados_2015_2019 = pd.concat(bases)\n",
    "dados_2015_2019.info()"
   ]
  },
  {
   "cell_type": "code",
   "execution_count": null,
   "metadata": {},
   "outputs": [],
   "source": [
    "dados_2015_2019.to_csv('../Data/cursos_2015-2019.csv', index=False)"
   ]
  }
 ],
 "metadata": {
  "kernelspec": {
   "display_name": "Python 3.10.9 64-bit",
   "language": "python",
   "name": "python3"
  },
  "language_info": {
   "codemirror_mode": {
    "name": "ipython",
    "version": 3
   },
   "file_extension": ".py",
   "mimetype": "text/x-python",
   "name": "python",
   "nbconvert_exporter": "python",
   "pygments_lexer": "ipython3",
   "version": "3.10.9"
  },
  "orig_nbformat": 4,
  "vscode": {
   "interpreter": {
    "hash": "b0fa6594d8f4cbf19f97940f81e996739fb7646882a419484c72d19e05852a7e"
   }
  }
 },
 "nbformat": 4,
 "nbformat_minor": 2
}
